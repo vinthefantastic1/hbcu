{
 "cells": [
  {
   "cell_type": "code",
   "execution_count": 28,
   "source": [
    "import pandas as pd\r\n",
    "df=pd.read_html(\"https://docs.microsoft.com/en-us/windows-hardware/design/minimum/supported/windows-11-supported-intel-processors\")\r\n",
    "\r\n",
    "df_cpu = df[0]\r\n",
    "\r\n"
   ],
   "outputs": [],
   "metadata": {}
  },
  {
   "cell_type": "code",
   "execution_count": 29,
   "source": [
    "df_cpu.columns =[ 'Manufacturer', 'Product', 'Processor Number']\r\n"
   ],
   "outputs": [],
   "metadata": {}
  },
  {
   "cell_type": "code",
   "execution_count": 42,
   "source": [
    "\r\n",
    "rr=df_cpu.sort_values(by=['Processor Number'])\r\n",
    "\r\n",
    "rr\r\n",
    "r=rr[df_cpu[\"Processor Number\"].str.contains(\"i5-\")]\r\n",
    "df3 = df_cpu.loc[df_cpu[\"Processor Number\"].str.contains(\"i5-\") , [\"Product\",\"Processor Number\"]]\r\n",
    "print(df3)\r\n",
    "\r\n"
   ],
   "outputs": [
    {
     "output_type": "stream",
     "name": "stdout",
     "text": [
      "    Product Processor Number\n",
      "49    Core™        i5-10210Y\n",
      "50    Core™        i5-10310Y\n",
      "51    Core™         i5-8200Y\n",
      "52    Core™         i5-8210Y\n",
      "53    Core™         i5-8310Y\n",
      "68    Core™         i5-8257U\n",
      "69    Core™         i5-8259U\n",
      "70    Core™         i5-8260U\n",
      "71    Core™         i5-8269U\n",
      "72    Core™         i5-8279U\n",
      "73    Core™         i5-8300H\n",
      "74    Core™          i5-8400\n",
      "75    Core™         i5-8400B\n",
      "76    Core™         i5-8400H\n",
      "77    Core™         i5-8400T\n",
      "78    Core™          i5-8500\n",
      "79    Core™         i5-8500B\n",
      "80    Core™         i5-8500T\n",
      "81    Core™          i5-8600\n",
      "82    Core™         i5-8600K\n",
      "83    Core™         i5-8600T\n",
      "95    Core™         i5-8250U\n",
      "96    Core™         i5-8350U\n",
      "101   Core™         i5-8265U\n",
      "102   Core™         i5-8365U\n",
      "103   Core™        i5-8365UE\n",
      "118   Core™         i5-9300H\n",
      "119   Core™        i5-9300HF\n",
      "120   Core™          i5-9400\n",
      "121   Core™         i5-9400F\n",
      "122   Core™         i5-9400H\n",
      "123   Core™         i5-9400T\n",
      "124   Core™          i5-9500\n",
      "125   Core™         i5-9500E\n",
      "126   Core™         i5-9500F\n",
      "127   Core™         i5-9500T\n",
      "128   Core™        i5-9500TE\n",
      "129   Core™          i5-9600\n",
      "130   Core™         i5-9600K\n",
      "131   Core™        i5-9600KF\n",
      "132   Core™         i5-9600T\n",
      "174   Core™        i5-10200H\n",
      "175   Core™        i5-10210U\n",
      "176   Core™        i5-10300H\n",
      "177   Core™        i5-10310U\n",
      "178   Core™         i5-10400\n",
      "179   Core™        i5-10400F\n",
      "180   Core™        i5-10400H\n",
      "181   Core™        i5-10400T\n",
      "182   Core™         i5-10500\n",
      "183   Core™        i5-10500E\n",
      "184   Core™        i5-10500H\n",
      "185   Core™        i5-10500T\n",
      "186   Core™       i5-10500TE\n",
      "187   Core™         i5-10600\n",
      "188   Core™        i5-10600K\n",
      "189   Core™       i5-10600KF\n",
      "190   Core™        i5-10600T\n",
      "219   Core™        i5-1030G4\n",
      "220   Core™        i5-1030G7\n",
      "221   Core™        i5-1035G1\n",
      "222   Core™        i5-1035G4\n",
      "223   Core™        i5-1035G7\n",
      "224   Core™       i5-1038NG7\n",
      "229   Core™         i5-L16G7\n",
      "230   Core™         i5-11400\n",
      "231   Core™        i5-11400F\n",
      "232   Core™        i5-11400T\n",
      "233   Core™         i5-11500\n",
      "234   Core™        i5-11500T\n",
      "235   Core™         i5-11600\n",
      "236   Core™        i5-11600K\n",
      "237   Core™       i5-11600KF\n",
      "238   Core™        i5-11600T\n",
      "255   Core™        i5-11300H\n",
      "256   Core™        i5-1130G7\n",
      "257   Core™        i5-1135G7\n",
      "258   Core™        i5-1135G7\n",
      "259   Core™        i5-1140G7\n",
      "260   Core™        i5-1145G7\n",
      "261   Core™       i5-1145G7E\n",
      "262   Core™       i5-1145GRE\n"
     ]
    },
    {
     "output_type": "stream",
     "name": "stderr",
     "text": [
      "<ipython-input-42-3a7de5389287>:4: UserWarning: Boolean Series key will be reindexed to match DataFrame index.\n",
      "  r=rr[df_cpu[\"Processor Number\"].str.contains(\"i5-\")]\n"
     ]
    }
   ],
   "metadata": {}
  },
  {
   "cell_type": "code",
   "execution_count": 40,
   "source": [
    "r[\"Product\"].count()\r\n",
    "r[\"Processor Number\"].unique()"
   ],
   "outputs": [
    {
     "output_type": "execute_result",
     "data": {
      "text/plain": [
       "array(['i5-10200H', 'i5-10210U', 'i5-10210Y', 'i5-10300H', 'i5-1030G4',\n",
       "       'i5-1030G7', 'i5-10310U', 'i5-10310Y', 'i5-1035G1', 'i5-1035G4',\n",
       "       'i5-1035G7', 'i5-1038NG7', 'i5-10400', 'i5-10400F', 'i5-10400H',\n",
       "       'i5-10400T', 'i5-10500', 'i5-10500E', 'i5-10500H', 'i5-10500T',\n",
       "       'i5-10500TE', 'i5-10600', 'i5-10600K', 'i5-10600KF', 'i5-10600T',\n",
       "       'i5-11300H', 'i5-1130G7', 'i5-1135G7', 'i5-11400', 'i5-11400F',\n",
       "       'i5-11400T', 'i5-1140G7', 'i5-1145G7', 'i5-1145G7E', 'i5-1145GRE',\n",
       "       'i5-11500', 'i5-11500T', 'i5-11600', 'i5-11600K', 'i5-11600KF',\n",
       "       'i5-11600T', 'i5-8200Y', 'i5-8210Y', 'i5-8250U', 'i5-8257U',\n",
       "       'i5-8259U', 'i5-8260U', 'i5-8265U', 'i5-8269U', 'i5-8279U',\n",
       "       'i5-8300H', 'i5-8310Y', 'i5-8350U', 'i5-8365U', 'i5-8365UE',\n",
       "       'i5-8400', 'i5-8400B', 'i5-8400H', 'i5-8400T', 'i5-8500',\n",
       "       'i5-8500B', 'i5-8500T', 'i5-8600', 'i5-8600K', 'i5-8600T',\n",
       "       'i5-9300H', 'i5-9300HF', 'i5-9400', 'i5-9400F', 'i5-9400H',\n",
       "       'i5-9400T', 'i5-9500', 'i5-9500E', 'i5-9500F', 'i5-9500T',\n",
       "       'i5-9500TE', 'i5-9600', 'i5-9600K', 'i5-9600KF', 'i5-9600T',\n",
       "       'i5-L16G7'], dtype=object)"
      ]
     },
     "metadata": {},
     "execution_count": 40
    }
   ],
   "metadata": {}
  }
 ],
 "metadata": {
  "orig_nbformat": 4,
  "language_info": {
   "name": "python",
   "version": "3.9.1",
   "mimetype": "text/x-python",
   "codemirror_mode": {
    "name": "ipython",
    "version": 3
   },
   "pygments_lexer": "ipython3",
   "nbconvert_exporter": "python",
   "file_extension": ".py"
  },
  "kernelspec": {
   "name": "python3",
   "display_name": "Python 3.9.1 64-bit"
  },
  "interpreter": {
   "hash": "e52487c2df70667776fd963284e924fe2cca6fef51ed41e1b7d85af88b644431"
  }
 },
 "nbformat": 4,
 "nbformat_minor": 2
}